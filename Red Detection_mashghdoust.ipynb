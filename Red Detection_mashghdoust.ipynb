{
 "cells": [
  {
   "cell_type": "code",
   "execution_count": 1,
   "metadata": {
    "pycharm": {
     "is_executing": true
    }
   },
   "outputs": [],
   "source": [
    "import numpy as np\n",
    "import cv2\n",
    "import matplotlib.pyplot as plt\n",
    "import time"
   ]
  },
  {
   "cell_type": "code",
   "execution_count": 83,
   "metadata": {
    "pycharm": {
     "is_executing": true
    }
   },
   "outputs": [],
   "source": [
    "I = cv2.imread('b1.jpg')\n",
    "B = I[:,:,0]\n",
    "B1=B.copy()\n",
    "G = I[:,:,1]\n",
    "G1=G.copy()\n",
    "R = I[:,:,2]\n",
    "R1=R.copy()\n",
    "cv2.imshow('win1',I)\n",
    "while 1:\n",
    "    k = cv2.waitKey()\n",
    "    if k == ord('o'):\n",
    "        cv2.imshow('win1',I)\n",
    "    elif k == ord('b'):\n",
    "        cv2.imshow('win1',B)\n",
    "    elif k == ord('g'):\n",
    "        cv2.imshow('win1',G)\n",
    "    elif k == ord('r'):\n",
    "        cv2.imshow('win1',R)\n",
    "    elif k == ord('q'):\n",
    "        cv2.destroyAllWindows()\n",
    "        break\n"
   ]
  },
  {
   "cell_type": "code",
   "execution_count": 84,
   "metadata": {
    "pycharm": {
     "is_executing": true
    }
   },
   "outputs": [
    {
     "data": {
      "image/png": "[encoded data removed]",
      "text/plain": [
       "<Figure size 432x288 with 1 Axes>"
      ]
     },
     "metadata": {
      "needs_background": "light"
     },
     "output_type": "display_data"
    }
   ],
   "source": [
    "AB=plt.hist(B1.ravel(),bins =list(range(256)),color='blue')\n",
    "AG=plt.hist(G1.ravel(),bins =list(range(256)),color='green')\n",
    "AR=plt.hist(R1.ravel(),bins =list(range(256)),color='red')\n",
    "\n",
    "plt.show()"
   ]
  },
  {
   "cell_type": "code",
   "execution_count": 85,
   "metadata": {
    "pycharm": {
     "is_executing": true
    }
   },
   "outputs": [],
   "source": [
    "def IsRed(I):\n",
    "    \n",
    "    B1 = I[:,:,0]\n",
    "    G1 = I[:,:,1]\n",
    "    R1 = I[:,:,2]\n",
    "    \n",
    "    AB=np.histogram(B1.ravel(),bins=np.arange(256))\n",
    "    AG=np.histogram(G1.ravel(),bins=np.arange(256))\n",
    "    AR=np.histogram(R1.ravel(),bins=np.arange(256))\n",
    "\n",
    "    \n",
    "    Bamount=np.argmax(AB[0])\n",
    "    Gamount=np.argmax(AG[0])\n",
    "    Ramount=np.argmax(AR[0])\n",
    "\n",
    "\n",
    "    if Bamount>200 and Ramount<100 and Gamount<190:\n",
    "        return True\n",
    "    else:\n",
    "        return False\n",
    "    \n",
    "def Span(G, n=24, m=32):\n",
    "    I=G.copy()\n",
    "    n1,m1,z1=I.shape\n",
    "    O=[]\n",
    "    for i in range(n1//n):\n",
    "        for j in range(m1//m):\n",
    "            O.append(G[i*n:(i+1)*n, j*m:(j+1)*m, :])\n",
    "    O=np.array(O)\n",
    "    O.shape=(n1//n,m1//m,n,m,3)\n",
    "    return O\n",
    "\n",
    "def ShowRed(G):\n",
    "    I=G.copy()\n",
    "    size=[G.shape[0],G.shape[1]]\n",
    "    K=np.zeros(size)\n",
    "    for i in range(G.shape[0]):\n",
    "        for j in range(G.shape[1]):\n",
    "            if IsRed(I[ i , j , : , : ]):\n",
    "                K[i,j]=255\n",
    "    return cv2.medianBlur(K.astype(np.uint8),11)\n",
    "\n",
    "\n",
    "def FindCent(I):\n",
    "    y_index,x_index=np.nonzero(I)\n",
    "    h,w=I.shape\n",
    "    if(y_index.size == 0):\n",
    "        return None, None\n",
    "    \n",
    "#     for f, b in zip(y_index, x_index):   \n",
    "#         if h-1>f>0 and w-1>b>0:\n",
    "#             if I[f,b]==255 and I[f-1,b]==255 and I[f+1,b]==255 and I[f,b-1]==255 and I[f,b+1]==255 :\n",
    "#                 I[f,b]=255\n",
    "#             else: \n",
    "#                 I[f,b]=0\n",
    "        \n",
    "            \n",
    "    y_mean=np.mean(y_index)\n",
    "    x_mean=np.mean(x_index)\n",
    "    return int(y_mean),int(x_mean)"
   ]
  },
  {
   "cell_type": "code",
   "execution_count": 87,
   "metadata": {
    "pycharm": {
     "is_executing": true
    }
   },
   "outputs": [
    {
     "name": "stdout",
     "output_type": "stream",
     "text": [
      "240 320\n",
      "NoRed\n",
      "NoRed\n",
      "NoRed\n",
      "NoRed\n",
      "NoRed\n",
      "NoRed\n",
      "NoRed\n",
      "NoRed\n",
      "NoRed\n",
      "NoRed\n",
      "NoRed\n",
      "NoRed\n",
      "NoRed\n",
      "NoRed\n",
      "NoRed\n",
      "NoRed\n",
      "NoRed\n",
      "NoRed\n",
      "NoRed\n",
      "NoRed\n",
      "NoRed\n",
      "NoRed\n",
      "NoRed\n",
      "NoRed\n",
      "NoRed\n",
      "NoRed\n",
      "NoRed\n",
      "NoRed\n",
      "NoRed\n",
      "NoRed\n",
      "NoRed\n",
      "NoRed\n",
      "NoRed\n",
      "NoRed\n",
      "NoRed\n",
      "NoRed\n",
      "NoRed\n",
      "NoRed\n",
      "NoRed\n",
      "NoRed\n",
      "NoRed\n",
      "NoRed\n",
      "NoRed\n",
      "NoRed\n",
      "NoRed\n",
      "NoRed\n",
      "NoRed\n",
      "NoRed\n",
      "NoRed\n",
      "NoRed\n",
      "NoRed\n",
      "NoRed\n",
      "NoRed\n",
      "NoRed\n",
      "NoRed\n",
      "NoRed\n",
      "NoRed\n",
      "NoRed\n",
      "NoRed\n",
      "NoRed\n",
      "NoRed\n",
      "NoRed\n",
      "NoRed\n",
      "NoRed\n",
      "NoRed\n",
      "NoRed\n",
      "NoRed\n",
      "NoRed\n",
      "NoRed\n",
      "NoRed\n",
      "NoRed\n",
      "NoRed\n",
      "NoRed\n",
      "NoRed\n",
      "NoRed\n",
      "NoRed\n"
     ]
    }
   ],
   "source": [
    "# added a second param cv2.CAP_DSHOW\n",
    "cap = cv2.VideoCapture(0)\n",
    "h = int(cap.get(cv2.CAP_PROP_FRAME_HEIGHT))\n",
    "w = int(cap.get(cv2.CAP_PROP_FRAME_WIDTH))\n",
    "\n",
    "print(h // 2, w // 2)\n",
    "\n",
    "offset = 40\n",
    "start_x = h // 2 - offset\n",
    "end_x = h // 2 + offset\n",
    "start_y = w // 2 - offset\n",
    "end_y = w // 2 + offset\n",
    "\n",
    "y_cen = (end_y - start_y)//2\n",
    "x_cen = (end_x - start_x)//2\n",
    "\n",
    "while 1:\n",
    "\n",
    "    ret, cam = cap.read()\n",
    "\n",
    "    I = cam[start_x:end_x, end_y:start_y+1:-1, :]\n",
    "    # print(I[start_x:end_x, end_y:start_y+1:-1, :])\n",
    "    # cv2.imshow(\"init-span\", I[start_x:end_x, end_y:start_y+1:-1, :])\n",
    "\n",
    "    if ret == False:\n",
    "        break\n",
    "\n",
    "    T = ShowRed(Span(I, n=3, m=4))\n",
    "    resizedI = cv2.resize(I, (640, 480), interpolation=cv2.INTER_AREA)\n",
    "    cv2.imshow(\"win2\", cam)\n",
    "    cv2.imshow(\"win1\", resizedI)\n",
    "    resizedT = cv2.resize(T, (640, 480), interpolation=cv2.INTER_AREA)\n",
    "    cv2.imshow(\"win3\", resizedT)\n",
    "    \n",
    "\n",
    "    y_cen_tmp, x_cen_tmp = FindCent(T)\n",
    "\n",
    "    if(y_cen_tmp == None):\n",
    "        print('NoRed')\n",
    "    else:\n",
    "        y_cen_tmp=y_cen_tmp*3\n",
    "        x_cen_tmp=x_cen_tmp*4\n",
    "        change_x = x_cen_tmp - x_cen\n",
    "        change_y = y_cen_tmp - y_cen\n",
    "#         print(change_x,change_y)\n",
    "        \n",
    "        start_y = start_y + change_y\n",
    "        end_y = end_y + change_y\n",
    "\n",
    "        start_x = start_x + change_x\n",
    "        end_x = end_x + change_x\n",
    "\n",
    "        x_cen = x_cen_tmp\n",
    "        y_cen = y_cen_tmp\n",
    "\n",
    "    key = cv2.waitKey(1)\n",
    "    if key == ord(\"q\"):\n",
    "        break\n",
    "cap.release()\n",
    "cv2.destroyAllWindows()\n"
   ]
  },
  {
   "cell_type": "code",
   "execution_count": 63,
   "metadata": {
    "pycharm": {
     "is_executing": true,
     "name": "#%%\n"
    }
   },
   "outputs": [
    {
     "data": {
      "text/plain": [
       "(array([0, 0, 0, 1, 1, 2], dtype=int64),\n",
       " array([0, 1, 2, 1, 2, 1], dtype=int64))"
      ]
     },
     "execution_count": 63,
     "metadata": {},
     "output_type": "execute_result"
    }
   ],
   "source": [
    "np.nonzero([[1,2,3],[0,1,2],[0,2,0]])"
   ]
  },
  {
   "cell_type": "code",
   "execution_count": null,
   "metadata": {},
   "outputs": [],
   "source": []
  }
 ],
 "metadata": {
  "kernelspec": {
   "display_name": "Python 3",
   "language": "python",
   "name": "python3"
  },
  "language_info": {
   "codemirror_mode": {
    "name": "ipython",
    "version": 3
   },
   "file_extension": ".py",
   "mimetype": "text/x-python",
   "name": "python",
   "nbconvert_exporter": "python",
   "pygments_lexer": "ipython3",
   "version": "3.7.6"
  },
  "pycharm": {
   "stem_cell": {
    "cell_type": "raw",
    "metadata": {
     "collapsed": false
    },
    "source": []
   }
  }
 },
 "nbformat": 4,
 "nbformat_minor": 4
}
